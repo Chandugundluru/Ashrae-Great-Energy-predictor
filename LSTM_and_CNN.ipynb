{
 "cells": [
  {
   "cell_type": "markdown",
   "metadata": {},
   "source": [
    "## CNN+LSTM Deep Neuralnetwork"
   ]
  },
  {
   "cell_type": "code",
   "execution_count": 1,
   "metadata": {
    "colab": {
     "base_uri": "https://localhost:8080/",
     "height": 34
    },
    "colab_type": "code",
    "id": "iX3AVWwHhy84",
    "outputId": "71be6002-1fa0-4978-ab0c-45ab97b5af89"
   },
   "outputs": [
    {
     "name": "stderr",
     "output_type": "stream",
     "text": [
      "Using TensorFlow backend.\n"
     ]
    }
   ],
   "source": [
    "import pandas as pd\n",
    "import numpy as np\n",
    "import matplotlib.pyplot as plt\n",
    "from sklearn.preprocessing import LabelEncoder\n",
    "from sklearn.model_selection import KFold,GroupKFold\n",
    "import datetime\n",
    "import sklearn\n",
    "import gc\n",
    "from keras import backend as K\n",
    "from sklearn import  linear_model\n",
    "from sklearn.metrics import mean_squared_error\n",
    "from math import sqrt\n",
    "from keras.regularizers import l2\n",
    "from keras import regularizers\n",
    "from keras.callbacks import EarlyStopping, ModelCheckpoint, ReduceLROnPlateau\n",
    "from tqdm import tqdm\n",
    "import keras\n",
    "from keras.regularizers import l2\n",
    "from keras.layers import Conv1D,MaxPooling1D,  LeakyReLU\n",
    "from keras.layers import Input, Embedding, LSTM, Dropout, BatchNormalization, Dense, Concatenate, Flatten,concatenate\n",
    "from keras.preprocessing.text import Tokenizer, one_hot\n",
    "from keras.preprocessing.sequence import pad_sequences\n",
    "from keras.models import Model, load_model"
   ]
  },
  {
   "cell_type": "code",
   "execution_count": 2,
   "metadata": {
    "colab": {},
    "colab_type": "code",
    "id": "1TQILhgTh0br"
   },
   "outputs": [],
   "source": [
    "import pandas as pd\n",
    "train=pd.read_csv('train_preprocessed1.csv')\n"
   ]
  },
  {
   "cell_type": "code",
   "execution_count": 3,
   "metadata": {
    "colab": {},
    "colab_type": "code",
    "id": "9zy7lW5miIdo"
   },
   "outputs": [],
   "source": [
    "train=train.drop(['Unnamed: 0'], axis=1)\n"
   ]
  },
  {
   "cell_type": "markdown",
   "metadata": {},
   "source": [
    "### All catogorical features to 1D conv"
   ]
  },
  {
   "cell_type": "code",
   "execution_count": 7,
   "metadata": {
    "colab": {},
    "colab_type": "code",
    "id": "XJgDj23UmJEu"
   },
   "outputs": [],
   "source": [
    "def cnn_inp(x_train):\n",
    "\n",
    "    x_train_cnn = x_train[['building_id','meter','dayofweek_x','is_holiday','group_x','site_id','primary_use']]\n",
    "    x_train_cnn = x_train_cnn.values[:]\n",
    "    x_train_cnn = x_train_cnn.reshape((x_train_cnn.shape[0],x_train_cnn.shape[-1],1))\n",
    "    \n",
    "    return  x_train_cnn"
   ]
  },
  {
   "cell_type": "markdown",
   "metadata": {},
   "source": [
    "### Numerical features to LSTM"
   ]
  },
  {
   "cell_type": "code",
   "execution_count": 2,
   "metadata": {},
   "outputs": [],
   "source": [
    "def lstm_inp(x_train):\n",
    "    x_train_LSTM = x_train[['square_feet','dew_temperature','relative_humidity','feels_like','cloud_coverage','wind_speed']]\n",
    "    x_train_LSTM = x_train_LSTM.values[:]\n",
    "    x_train_LSTM= x_train_LSTM.reshape((x_train_LSTM.shape[0],1,x_train_LSTM.shape[-1]))\n",
    "    \n",
    "    return x_train_LSTM"
   ]
  },
  {
   "cell_type": "code",
   "execution_count": 3,
   "metadata": {},
   "outputs": [],
   "source": [
    "from keras import backend as K\n",
    "from keras.optimizers import Adam\n",
    "K.clear_session()"
   ]
  },
  {
   "cell_type": "code",
   "execution_count": 4,
   "metadata": {},
   "outputs": [],
   "source": [
    "def root_mean_squared_error(y_true, y_pred):\n",
    "        return K.sqrt(K.mean(K.square(y_pred - y_true)))"
   ]
  },
  {
   "cell_type": "markdown",
   "metadata": {},
   "source": [
    "## Network with CNN and LSTM"
   ]
  },
  {
   "cell_type": "code",
   "execution_count": 19,
   "metadata": {
    "colab": {},
    "colab_type": "code",
    "id": "RFMxg9W9oC0E",
    "scrolled": true
   },
   "outputs": [],
   "source": [
    "def model_dnn(x_train_cnn,x_train_LSTM,y_train,x_cv_cnn,x_cv_LSTM,y_valid,fold_n):\n",
    "    inp_1 = Input(shape=(7,1), name=\"cat_features\")\n",
    "    conv1 = Conv1D(512,2,activation = 'relu',kernel_initializer=\"he_normal\",kernel_regularizer=keras.regularizers.l2(0.01))(inp_1)\n",
    "    conv2 = Conv1D(256,2,activation = 'relu',kernel_initializer=\"he_normal\",kernel_regularizer=keras.regularizers.l2(0.01))(inp_1)\n",
    "    conv3 = Conv1D(64,2,activation = 'relu',kernel_initializer=\"he_normal\",kernel_regularizer=keras.regularizers.l2(0.01))(inp_1)\n",
    "\n",
    "    concat = Concatenate()([conv1,conv2,conv3])\n",
    "    pool1 = MaxPooling1D(2)(concat)\n",
    "\n",
    "    conv4 = Conv1D(32,2,activation = 'relu',kernel_initializer=\"he_normal\",kernel_regularizer=keras.regularizers.l2(0.01))(pool1)\n",
    "    conv5 = Conv1D(32,2,activation = 'relu',kernel_initializer=\"he_normal\",kernel_regularizer=keras.regularizers.l2(0.01))(pool1)\n",
    "    conv6 = Conv1D(16,2,activation = 'relu',kernel_initializer=\"he_normal\",kernel_regularizer=keras.regularizers.l2(0.01))(pool1)\n",
    "\n",
    "    concat2 = Concatenate()([conv4,conv5,conv6])\n",
    "    pool2 = MaxPooling1D(2)(concat2)\n",
    "    f1= Flatten()(pool2)\n",
    "\n",
    "    \n",
    "    inp_2 = Input(shape=(1,6),name = \"numerical_features\")\n",
    "    lstm_text  = LSTM(32, activation=\"relu\", return_sequences=True , input_shape=(None,6))(inp_2)\n",
    "    lstm_text = BatchNormalization()(lstm_text)\n",
    "    lstm2  = LSTM(16, activation=\"relu\", return_sequences=True )(lstm_text)  \n",
    "    f2 = Flatten()(lstm2)\n",
    "\n",
    "    x = concatenate([f1,f2])\n",
    "    x = Dense(128,activation='relu', kernel_initializer=\"glorot_normal\",kernel_regularizer=regularizers.l2(0.001))(x)\n",
    "    x = BatchNormalization()(x)\n",
    "    x = Dropout(0.5)(x)\n",
    "    x = Dense(64,activation='relu',kernel_initializer=\"glorot_normal\",kernel_regularizer=regularizers.l2(0.001))(x)\n",
    "    x = BatchNormalization()(x)\n",
    "    x = Dropout(0.5)(x)\n",
    "    x = Dense(64,activation='relu', kernel_initializer=\"glorot_normal\",kernel_regularizer=regularizers.l2(0.001))(x)\n",
    "    x = BatchNormalization()(x)\n",
    "    output = Dense(1, activation='linear', name='output')(x)\n",
    "    \n",
    "    model_nn = Model(inputs=[inp_1,inp_2],outputs=[output])\n",
    "    model_nn.compile(optimizer = Adam(lr=0.01), loss = root_mean_squared_error)\n",
    "    \n",
    "    model_checkpoint = ModelCheckpoint(\"modeldnn_\" + str(fold_n) + \".hdf5\",\n",
    "                                       save_best_only=True, verbose=1, monitor='val_loss', mode='min')\n",
    "    \n",
    "    mod = model_nn.fit([x_train_cnn,x_train_LSTM],y_train,batch_size=2048,validation_data = ([x_cv_cnn,x_cv_LSTM],y_valid),\n",
    "                       epochs=2,verbose=1,callbacks=[model_checkpoint])\n",
    "  \n",
    "    "
   ]
  },
  {
   "cell_type": "code",
   "execution_count": 20,
   "metadata": {},
   "outputs": [],
   "source": [
    "target=train['meter_reading']"
   ]
  },
  {
   "cell_type": "markdown",
   "metadata": {},
   "source": [
    "#### To utilize whole train data Using Kfold "
   ]
  },
  {
   "cell_type": "code",
   "execution_count": 21,
   "metadata": {},
   "outputs": [
    {
     "name": "stdout",
     "output_type": "stream",
     "text": [
      "Fold: 0\n",
      "x_train_cnn shape (12887632, 7, 1)\n",
      "x_train_LSTM shape (12887632, 1, 6)\n",
      "WARNING:tensorflow:From /opt/conda/lib/python3.7/site-packages/tensorflow_core/python/ops/resource_variable_ops.py:1630: calling BaseResourceVariable.__init__ (from tensorflow.python.ops.resource_variable_ops) with constraint is deprecated and will be removed in a future version.\n",
      "Instructions for updating:\n",
      "If using Keras pass *_constraint arguments to layers.\n",
      "WARNING:tensorflow:From /opt/conda/lib/python3.7/site-packages/keras/backend/tensorflow_backend.py:4070: The name tf.nn.max_pool is deprecated. Please use tf.nn.max_pool2d instead.\n",
      "\n",
      "WARNING:tensorflow:From /opt/conda/lib/python3.7/site-packages/tensorflow_core/python/ops/math_grad.py:1424: where (from tensorflow.python.ops.array_ops) is deprecated and will be removed in a future version.\n",
      "Instructions for updating:\n",
      "Use tf.where in 2.0, which has the same broadcast rule as np.where\n",
      "WARNING:tensorflow:From /opt/conda/lib/python3.7/site-packages/keras/backend/tensorflow_backend.py:422: The name tf.global_variables is deprecated. Please use tf.compat.v1.global_variables instead.\n",
      "\n",
      "Train on 12887632 samples, validate on 6443816 samples\n",
      "Epoch 1/2\n",
      "12887632/12887632 [==============================] - 2378s 185us/step - loss: 1.9681 - val_loss: 1.7542\n",
      "\n",
      "Epoch 00001: val_loss improved from inf to 1.75416, saving model to modeldnn_0.hdf5\n",
      "Epoch 2/2\n",
      "12887632/12887632 [==============================] - 2249s 175us/step - loss: 1.7703 - val_loss: 1.7691\n",
      "\n",
      "Epoch 00002: val_loss did not improve from 1.75416\n",
      "**************************************************\n",
      "Fold: 1\n",
      "x_train_cnn shape (12887632, 7, 1)\n",
      "x_train_LSTM shape (12887632, 1, 6)\n",
      "Train on 12887632 samples, validate on 6443816 samples\n",
      "Epoch 1/2\n",
      "12887632/12887632 [==============================] - 2289s 178us/step - loss: 1.9621 - val_loss: 1.7743\n",
      "\n",
      "Epoch 00001: val_loss improved from inf to 1.77428, saving model to modeldnn_1.hdf5\n",
      "Epoch 2/2\n",
      "12887632/12887632 [==============================] - 2394s 186us/step - loss: 1.7713 - val_loss: 1.7602\n",
      "\n",
      "Epoch 00002: val_loss improved from 1.77428 to 1.76021, saving model to modeldnn_1.hdf5\n",
      "**************************************************\n",
      "Fold: 2\n",
      "x_train_cnn shape (12887632, 7, 1)\n",
      "x_train_LSTM shape (12887632, 1, 6)\n",
      "Train on 12887632 samples, validate on 6443816 samples\n",
      "Epoch 1/2\n",
      "12887632/12887632 [==============================] - 2432s 189us/step - loss: 1.9749 - val_loss: 1.7705\n",
      "\n",
      "Epoch 00001: val_loss improved from inf to 1.77055, saving model to modeldnn_2.hdf5\n",
      "Epoch 2/2\n",
      "12887632/12887632 [==============================] - 2392s 186us/step - loss: 1.7704 - val_loss: 1.7603\n",
      "\n",
      "Epoch 00002: val_loss improved from 1.77055 to 1.76030, saving model to modeldnn_2.hdf5\n",
      "**************************************************\n"
     ]
    }
   ],
   "source": [
    "from sklearn.model_selection import KFold, StratifiedKFold\n",
    "\n",
    "models = []\n",
    "\n",
    "folds = 3\n",
    "seed = 666\n",
    "\n",
    "\n",
    "\n",
    "kf = StratifiedKFold(n_splits=folds, shuffle=True, random_state=seed)\n",
    "\n",
    "for fold_n, (train_index, valid_index) in enumerate(kf.split(train, train['building_id'])):\n",
    "   \n",
    "    print('Fold:', fold_n)\n",
    "    \n",
    "    X_train, X_valid = train.iloc[train_index], train.iloc[valid_index]\n",
    "    y_train, y_valid = target.iloc[train_index], target.iloc[valid_index]\n",
    "    \n",
    "    x_train_cnn = cnn_inp(X_train)\n",
    "    print('x_train_cnn shape',x_train_cnn.shape)\n",
    "    x_cv_cnn=cnn_inp(X_valid)\n",
    "    \n",
    "    x_train_LSTM = lstm_inp(X_train)\n",
    "    print('x_train_LSTM shape',x_train_LSTM.shape)\n",
    "    x_cv_LSTM = lstm_inp(X_valid)\n",
    "    \n",
    "    keras_model=model_dnn(x_train_cnn,x_train_LSTM,y_train,x_cv_cnn,x_cv_LSTM,y_valid,fold_n)\n",
    "    \n",
    "    models.append(keras_model)\n",
    "        \n",
    "    del x_train_cnn, x_train_LSTM ,x_cv_LSTM ,x_cv_cnn\n",
    "    print('*'* 50)"
   ]
  },
  {
   "cell_type": "markdown",
   "metadata": {},
   "source": [
    "### preparing test _data"
   ]
  },
  {
   "cell_type": "code",
   "execution_count": 5,
   "metadata": {},
   "outputs": [],
   "source": [
    "x_test=pd.read_csv('test_preprocessed1.csv')\n",
    "x_test=x_test.drop(['Unnamed: 0','year_built','row_id'], axis=1)"
   ]
  },
  {
   "cell_type": "markdown",
   "metadata": {},
   "source": [
    "#### LSTM_test_input"
   ]
  },
  {
   "cell_type": "code",
   "execution_count": 6,
   "metadata": {},
   "outputs": [],
   "source": [
    "x_test_LSTM = x_test[['square_feet','dew_temperature','relative_humidity','feels_like','cloud_coverage','wind_speed']]\n",
    "x_test_LSTM = x_test_LSTM.values[:]\n",
    "x_test_LSTM= x_test_LSTM.reshape((x_test_LSTM.shape[0],1,x_test_LSTM.shape[-1]))"
   ]
  },
  {
   "cell_type": "markdown",
   "metadata": {},
   "source": [
    "#### CNN_test_input"
   ]
  },
  {
   "cell_type": "code",
   "execution_count": 7,
   "metadata": {},
   "outputs": [],
   "source": [
    "x_test_cnn = x_test[['building_id','meter','dayofweek_x','is_holiday','group_x','site_id','primary_use']]\n",
    "x_test_cnn = x_test_cnn.values[:]\n",
    "x_test_cnn= x_test_cnn.reshape((x_test_cnn.shape[0],x_test_cnn.shape[-1],1))"
   ]
  },
  {
   "cell_type": "markdown",
   "metadata": {},
   "source": [
    "#### prediction"
   ]
  },
  {
   "cell_type": "code",
   "execution_count": 8,
   "metadata": {},
   "outputs": [
    {
     "name": "stdout",
     "output_type": "stream",
     "text": [
      "WARNING:tensorflow:From /opt/conda/lib/python3.7/site-packages/tensorflow_core/python/ops/resource_variable_ops.py:1630: calling BaseResourceVariable.__init__ (from tensorflow.python.ops.resource_variable_ops) with constraint is deprecated and will be removed in a future version.\n",
      "Instructions for updating:\n",
      "If using Keras pass *_constraint arguments to layers.\n",
      "WARNING:tensorflow:From /opt/conda/lib/python3.7/site-packages/keras/backend/tensorflow_backend.py:4070: The name tf.nn.max_pool is deprecated. Please use tf.nn.max_pool2d instead.\n",
      "\n",
      "WARNING:tensorflow:From /opt/conda/lib/python3.7/site-packages/tensorflow_core/python/ops/math_grad.py:1424: where (from tensorflow.python.ops.array_ops) is deprecated and will be removed in a future version.\n",
      "Instructions for updating:\n",
      "Use tf.where in 2.0, which has the same broadcast rule as np.where\n",
      "WARNING:tensorflow:From /opt/conda/lib/python3.7/site-packages/keras/backend/tensorflow_backend.py:422: The name tf.global_variables is deprecated. Please use tf.compat.v1.global_variables instead.\n",
      "\n"
     ]
    }
   ],
   "source": [
    "fold0=load_model('modeldnn_0.hdf5', custom_objects={'root_mean_squared_error': root_mean_squared_error})"
   ]
  },
  {
   "cell_type": "code",
   "execution_count": 10,
   "metadata": {},
   "outputs": [
    {
     "data": {
      "text/plain": [
       "['pred1_cnnandlstm.pkl']"
      ]
     },
     "execution_count": 10,
     "metadata": {},
     "output_type": "execute_result"
    }
   ],
   "source": [
    "pred1=fold0.predict([x_test_cnn,x_test_LSTM])\n",
    "import joblib\n",
    "joblib.dump(pred1,'pred1_cnnandlstm.pkl')"
   ]
  },
  {
   "cell_type": "code",
   "execution_count": 11,
   "metadata": {},
   "outputs": [],
   "source": [
    "fold1=load_model('modeldnn_1.hdf5', custom_objects={'root_mean_squared_error': root_mean_squared_error})"
   ]
  },
  {
   "cell_type": "code",
   "execution_count": 12,
   "metadata": {},
   "outputs": [
    {
     "data": {
      "text/plain": [
       "['pred2_cnnandlstm.pkl']"
      ]
     },
     "execution_count": 12,
     "metadata": {},
     "output_type": "execute_result"
    }
   ],
   "source": [
    "pred2=fold1.predict([x_test_cnn,x_test_LSTM])\n",
    "joblib.dump(pred2,'pred2_cnnandlstm.pkl')"
   ]
  },
  {
   "cell_type": "code",
   "execution_count": 13,
   "metadata": {},
   "outputs": [],
   "source": [
    "fold2=load_model('modeldnn_2.hdf5', custom_objects={'root_mean_squared_error': root_mean_squared_error})"
   ]
  },
  {
   "cell_type": "code",
   "execution_count": 14,
   "metadata": {},
   "outputs": [
    {
     "data": {
      "text/plain": [
       "['pred3_cnnandlstm.pkl']"
      ]
     },
     "execution_count": 14,
     "metadata": {},
     "output_type": "execute_result"
    }
   ],
   "source": [
    "pred3=fold2.predict([x_test_cnn,x_test_LSTM])\n",
    "joblib.dump(pred3,'pred3_cnnandlstm.pkl')"
   ]
  },
  {
   "cell_type": "markdown",
   "metadata": {},
   "source": [
    "#### average "
   ]
  },
  {
   "cell_type": "code",
   "execution_count": 15,
   "metadata": {},
   "outputs": [],
   "source": [
    "pred = []\n",
    "pred = np.expm1((pred1+pred2+pred3)/3)"
   ]
  },
  {
   "cell_type": "code",
   "execution_count": 16,
   "metadata": {},
   "outputs": [
    {
     "data": {
      "text/plain": [
       "['pred_cnnandlstm.pkl']"
      ]
     },
     "execution_count": 16,
     "metadata": {},
     "output_type": "execute_result"
    }
   ],
   "source": [
    "import joblib \n",
    "joblib.dump(pred,'pred_cnnandlstm.pkl')"
   ]
  },
  {
   "cell_type": "code",
   "execution_count": 11,
   "metadata": {},
   "outputs": [],
   "source": [
    "import joblib \n",
    "predict_y=joblib.load('pred_cnnandlstm.pkl')"
   ]
  },
  {
   "cell_type": "code",
   "execution_count": 12,
   "metadata": {},
   "outputs": [],
   "source": [
    "predict_y=predict_y.flatten()"
   ]
  },
  {
   "cell_type": "code",
   "execution_count": 4,
   "metadata": {},
   "outputs": [],
   "source": [
    "df_test = pd.read_csv('data/test.csv')\n",
    "row_ids = df_test[\"row_id\"]"
   ]
  },
  {
   "cell_type": "code",
   "execution_count": 13,
   "metadata": {},
   "outputs": [],
   "source": [
    "submission_dnn = pd.DataFrame({\"row_id\": row_ids, \"meter_reading\": np.clip(predict_y, 0, a_max=None)})\n",
    "submission_dnn['meter_reading'] = submission_dnn['meter_reading'].astype('float32')\n",
    "submission_dnn['row_id'] = submission_dnn['row_id'].astype('int32')"
   ]
  },
  {
   "cell_type": "code",
   "execution_count": 14,
   "metadata": {},
   "outputs": [
    {
     "data": {
      "text/html": [
       "<div>\n",
       "<style scoped>\n",
       "    .dataframe tbody tr th:only-of-type {\n",
       "        vertical-align: middle;\n",
       "    }\n",
       "\n",
       "    .dataframe tbody tr th {\n",
       "        vertical-align: top;\n",
       "    }\n",
       "\n",
       "    .dataframe thead th {\n",
       "        text-align: right;\n",
       "    }\n",
       "</style>\n",
       "<table border=\"1\" class=\"dataframe\">\n",
       "  <thead>\n",
       "    <tr style=\"text-align: right;\">\n",
       "      <th></th>\n",
       "      <th>row_id</th>\n",
       "      <th>meter_reading</th>\n",
       "    </tr>\n",
       "  </thead>\n",
       "  <tbody>\n",
       "    <tr>\n",
       "      <th>0</th>\n",
       "      <td>0</td>\n",
       "      <td>108.005737</td>\n",
       "    </tr>\n",
       "    <tr>\n",
       "      <th>1</th>\n",
       "      <td>1</td>\n",
       "      <td>21.171751</td>\n",
       "    </tr>\n",
       "    <tr>\n",
       "      <th>2</th>\n",
       "      <td>2</td>\n",
       "      <td>78.652214</td>\n",
       "    </tr>\n",
       "    <tr>\n",
       "      <th>3</th>\n",
       "      <td>3</td>\n",
       "      <td>181.244537</td>\n",
       "    </tr>\n",
       "    <tr>\n",
       "      <th>4</th>\n",
       "      <td>4</td>\n",
       "      <td>642.030273</td>\n",
       "    </tr>\n",
       "    <tr>\n",
       "      <th>5</th>\n",
       "      <td>5</td>\n",
       "      <td>111.905594</td>\n",
       "    </tr>\n",
       "    <tr>\n",
       "      <th>6</th>\n",
       "      <td>6</td>\n",
       "      <td>195.738815</td>\n",
       "    </tr>\n",
       "    <tr>\n",
       "      <th>7</th>\n",
       "      <td>7</td>\n",
       "      <td>686.256226</td>\n",
       "    </tr>\n",
       "    <tr>\n",
       "      <th>8</th>\n",
       "      <td>8</td>\n",
       "      <td>686.256226</td>\n",
       "    </tr>\n",
       "    <tr>\n",
       "      <th>9</th>\n",
       "      <td>9</td>\n",
       "      <td>373.711182</td>\n",
       "    </tr>\n",
       "  </tbody>\n",
       "</table>\n",
       "</div>"
      ],
      "text/plain": [
       "   row_id  meter_reading\n",
       "0       0     108.005737\n",
       "1       1      21.171751\n",
       "2       2      78.652214\n",
       "3       3     181.244537\n",
       "4       4     642.030273\n",
       "5       5     111.905594\n",
       "6       6     195.738815\n",
       "7       7     686.256226\n",
       "8       8     686.256226\n",
       "9       9     373.711182"
      ]
     },
     "execution_count": 14,
     "metadata": {},
     "output_type": "execute_result"
    }
   ],
   "source": [
    "submission_dnn.head(10)"
   ]
  },
  {
   "cell_type": "code",
   "execution_count": 15,
   "metadata": {},
   "outputs": [],
   "source": [
    "submission_dnn.to_csv('submission_dnn.csv',index=False)"
   ]
  },
  {
   "cell_type": "markdown",
   "metadata": {},
   "source": [
    "### Model Architechture"
   ]
  },
  {
   "cell_type": "code",
   "execution_count": 14,
   "metadata": {},
   "outputs": [
    {
     "data": {
      "image/png": "[encoded data removed]",
      "text/plain": [
       "<IPython.core.display.Image object>"
      ]
     },
     "execution_count": 14,
     "metadata": {},
     "output_type": "execute_result"
    }
   ],
   "source": [
    "from tensorflow import keras\n",
    "keras.utils.plot_model(model_nn, \"my_first_model.png\")"
   ]
  }
 ],
 "metadata": {
  "colab": {
   "collapsed_sections": [],
   "name": "Untitled0.ipynb",
   "provenance": []
  },
  "kernelspec": {
   "display_name": "Python 3",
   "language": "python",
   "name": "python3"
  },
  "language_info": {
   "codemirror_mode": {
    "name": "ipython",
    "version": 3
   },
   "file_extension": ".py",
   "mimetype": "text/x-python",
   "name": "python",
   "nbconvert_exporter": "python",
   "pygments_lexer": "ipython3",
   "version": "3.7.4"
  }
 },
 "nbformat": 4,
 "nbformat_minor": 1
}
